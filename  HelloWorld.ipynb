{
 "cells": [
  {
   "cell_type": "code",
   "execution_count": 1,
   "id": "b2103ddb-22f1-4efe-acbb-80d9337a18f3",
   "metadata": {
    "id": "dcd27db7-d7e8-4cc8-ba0c-00e9c8c5cc17",
    "tags": []
   },
   "outputs": [
    {
     "name": "stdout",
     "output_type": "stream",
     "text": [
      "Hello World\n"
     ]
    }
   ],
   "source": [
    "print(\"Hello World\")"
   ]
  },
  {
   "cell_type": "code",
   "execution_count": null,
   "id": "e21fd0a6-fd6e-47bc-9152-bfcdbeddcacc",
   "metadata": {
    "id": "e21fd0a6-fd6e-47bc-9152-bfcdbeddcacc"
   },
   "outputs": [],
   "source": []
  }
 ],
 "metadata": {
  "kernelspec": {
   "display_name": "Python 3.9",
   "language": "python",
   "name": "python3"
  },
  "language_info": {
   "codemirror_mode": {
    "name": "ipython",
    "version": 3
   },
   "file_extension": ".py",
   "mimetype": "text/x-python",
   "name": "python",
   "nbconvert_exporter": "python",
   "pygments_lexer": "ipython3",
   "version": "3.9.7"
  }
 },
 "nbformat": 4,
 "nbformat_minor": 5
}
